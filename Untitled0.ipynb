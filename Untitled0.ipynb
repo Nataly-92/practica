{
  "cells": [
    {
      "cell_type": "markdown",
      "metadata": {
        "id": "W0DkEo3I_TVb"
      },
      "source": [
        "Imprimir los numeros enteros menores a 10\n"
      ]
    },
    {
      "cell_type": "code",
      "execution_count": null,
      "metadata": {
        "colab": {
          "base_uri": "https://localhost:8080/"
        },
        "id": "hwqNsW-o_eoT",
        "outputId": "7169575b-040d-42e4-8b8a-abfe67985686"
      },
      "outputs": [
        {
          "ename": "",
          "evalue": "",
          "output_type": "error",
          "traceback": [
            "\u001b[1;31mLa ejecución de celdas con 'c:\\Program Files\\Python310\\python.exe' requiere el paquete ipykernel.\n",
            "\u001b[1;31mRun the following command to install 'ipykernel' into the Python environment. \n",
            "\u001b[1;31mCommand: '\"c:/Program Files/Python310/python.exe\" -m pip install ipykernel -U --user --force-reinstall'"
          ]
        }
      ],
      "source": [
        "numero = 1\n",
        "while numero < 10:\n",
        "  print (numero)\n",
        "  numero = numero + 1"
      ]
    },
    {
      "cell_type": "markdown",
      "metadata": {
        "id": "Sz8fDzm1CrBo"
      },
      "source": [
        "#Bucles infinitos\n"
      ]
    },
    {
      "cell_type": "code",
      "execution_count": null,
      "metadata": {
        "id": "ZYNYKthUCpkP"
      },
      "outputs": [],
      "source": [
        "numero = 1\n",
        "while numero < 10:\n",
        "  print (numero)"
      ]
    },
    {
      "cell_type": "markdown",
      "metadata": {
        "id": "nvujwXVr_0Uj"
      },
      "source": [
        "# calcular la suma de una cantidad de numeros enteros ingresados por el usuario"
      ]
    },
    {
      "cell_type": "code",
      "execution_count": 6,
      "metadata": {
        "colab": {
          "base_uri": "https://localhost:8080/"
        },
        "id": "WVevs1Be9T8g",
        "outputId": "b5f1ae92-5202-4c1d-a182-987bcb3ab6a8"
      },
      "outputs": [
        {
          "name": "stdout",
          "output_type": "stream",
          "text": [
            "Ingrese un numero ('exit' para terminar )15\n",
            "La suma es 15\n",
            "Ingrese un numero ('exit' para terminar )20\n",
            "La suma es 35\n",
            "Ingrese un numero ('exit' para terminar )30\n",
            "La suma es 65\n",
            "Ingrese un numero ('exit' para terminar )exit\n",
            "La suma final es 65\n"
          ]
        }
      ],
      "source": [
        "suma = 0\n",
        "continuar = True\n",
        "while continuar :\n",
        "  input_usuario = input(\"Ingrese un numero ('exit' para terminar )\")\n",
        "  if input_usuario == 'exit':\n",
        "    continuar = False\n",
        "  else:\n",
        "    numero = int (input_usuario)\n",
        "    suma = suma + numero\n",
        "    print (f\"La suma es {suma}\")\n",
        "\n",
        "print (f\"La suma final es {suma}\")"
      ]
    },
    {
      "cell_type": "markdown",
      "metadata": {
        "id": "ZQetgygGGma9"
      },
      "source": [
        "### Sentencia Break"
      ]
    },
    {
      "cell_type": "code",
      "execution_count": 7,
      "metadata": {
        "colab": {
          "base_uri": "https://localhost:8080/"
        },
        "id": "oWaNZZr4GsL0",
        "outputId": "592d58fd-02ff-4629-d489-6fbfd0523a89"
      },
      "outputs": [
        {
          "name": "stdout",
          "output_type": "stream",
          "text": [
            "1\n",
            "2\n",
            "3\n",
            "4\n"
          ]
        }
      ],
      "source": [
        "numero = 1\n",
        "while numero < 10:\n",
        "  if  numero == 5:\n",
        "    break\n",
        "  print (numero)\n",
        "  numero = numero + 1"
      ]
    },
    {
      "cell_type": "markdown",
      "metadata": {
        "id": "MzIt5gZNm3YW"
      },
      "source": [
        "#FOR\n",
        "\n",
        "for valor in \"Lista de valores\":\n",
        "\n",
        "     bloque de codigo para cada valor\n"
      ]
    },
    {
      "cell_type": "markdown",
      "metadata": {
        "id": "kf8oosqEnlFW"
      },
      "source": [
        "Escribir la letra de la cancion . Me gusta de Manu Chao"
      ]
    },
    {
      "cell_type": "code",
      "execution_count": 1,
      "metadata": {
        "colab": {
          "base_uri": "https://localhost:8080/"
        },
        "id": "wdHRAtj3nbrb",
        "outputId": "b7601cf8-af18-4a56-fd1e-caa7f09c502a"
      },
      "outputs": [
        {
          "name": "stdout",
          "output_type": "stream",
          "text": [
            "Me gusta Los aviones, me gusta tu\n",
            "Me gusta Viajar, me gusta tu\n",
            "Me gusta La mañana, me gusta tu\n",
            "Me gusta El viento, me gusta tu\n",
            "Me gusta soñar, me gusta tu\n",
            "Me gusta la mar, me gusta tu\n"
          ]
        }
      ],
      "source": [
        "gustos_manuchao = [\"Los aviones\",\"Viajar\",\"La mañana\",\"El viento\",\"soñar\",\"la mar\"]\n",
        "\n",
        "for gusto in gustos_manuchao:\n",
        "  print (f\"Me gusta {gusto}, me gusta tu\")"
      ]
    },
    {
      "cell_type": "markdown",
      "metadata": {
        "id": "pOuPlCFipjYq"
      },
      "source": [
        "# Range:\n",
        "\n"
      ]
    },
    {
      "cell_type": "code",
      "execution_count": 2,
      "metadata": {
        "colab": {
          "base_uri": "https://localhost:8080/"
        },
        "id": "e2E-1NeApu9U",
        "outputId": "d62c55f1-eb8f-4de5-a746-7ce40fabb129"
      },
      "outputs": [
        {
          "name": "stdout",
          "output_type": "stream",
          "text": [
            "1\n",
            "4\n",
            "7\n",
            "10\n",
            "13\n",
            "16\n",
            "19\n"
          ]
        }
      ],
      "source": [
        "for numero in range(1 ,20, 3):\n",
        "  print (numero)"
      ]
    }
  ],
  "metadata": {
    "colab": {
      "provenance": []
    },
    "kernelspec": {
      "display_name": "Python 3",
      "name": "python3"
    },
    "language_info": {
      "name": "python",
      "version": "3.10.4"
    }
  },
  "nbformat": 4,
  "nbformat_minor": 0
}
